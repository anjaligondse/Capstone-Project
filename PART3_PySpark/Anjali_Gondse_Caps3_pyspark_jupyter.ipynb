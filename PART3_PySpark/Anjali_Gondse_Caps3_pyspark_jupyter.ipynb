{
  "nbformat": 4,
  "nbformat_minor": 0,
  "metadata": {
    "colab": {
      "name": "Anjali_Gondse_Capstonepart3_.ipynb",
      "provenance": [],
      "collapsed_sections": []
    },
    "kernelspec": {
      "name": "python3",
      "display_name": "Python 3"
    },
    "language_info": {
      "name": "python"
    }
  },
  "cells": [
    {
      "cell_type": "markdown",
      "source": [
        "# <center> **Capstone Project - Part 3** </center>\n",
        "## <center> **PySpark** </center>\n",
        "\n",
        "## **Olympics Datase Analysis using PySpark**\n",
        "\n",
        "### **Introduction**\n",
        "> We will use the csv file olympic_data.csv from our Capstone part 2, which contains cleaned data form previous file which was having duplicates and missing values and perform analysis of data using PySpark. \n",
        "\n",
        "**This Olympic_data.csv file contains the data of Olympic Medal Winner's record for the year 2000 to 2012.** This includes names of the athletes, age, country, sports which they have participated, count of diffrent types of medal won by them. With the help of PySpark we will analyze our dataset in the form of quetions provied.\n",
        "\n",
        "\n",
        "### **Objective of the Project:**\n",
        "\n",
        "• To read the olympix_data.csv file into PySpark as a dataframe.\n",
        "\n",
        "• To find out the number Sports included in Olympic.\n",
        "\n",
        "• To plot the total number of medals in each Olympic Sport and sort in descending order based on the total no. of medals.\n",
        "\n",
        "• To find the total number of medals won by each country in Swimming and Skelton.\n",
        "\n",
        "• To find the number of medals US won yearly.\n",
        "\n",
        "• To find out the total number of medals won by each country.\n",
        "\n",
        "• To check for the oldest athlete in the Olympics and country he\\she belongs."
      ],
      "metadata": {
        "id": "Fnu1EtqfScwR"
      }
    },
    {
      "cell_type": "code",
      "execution_count": null,
      "metadata": {
        "colab": {
          "base_uri": "https://localhost:8080/"
        },
        "id": "LYcD0D1MSXyb",
        "outputId": "fbc19683-e170-4261-af8f-cac18c01fa99"
      },
      "outputs": [
        {
          "output_type": "stream",
          "name": "stdout",
          "text": [
            "Looking in indexes: https://pypi.org/simple, https://us-python.pkg.dev/colab-wheels/public/simple/\n",
            "Collecting pyspark\n",
            "  Downloading pyspark-3.3.0.tar.gz (281.3 MB)\n",
            "\u001b[K     |████████████████████████████████| 281.3 MB 35 kB/s \n",
            "\u001b[?25hCollecting py4j==0.10.9.5\n",
            "  Downloading py4j-0.10.9.5-py2.py3-none-any.whl (199 kB)\n",
            "\u001b[K     |████████████████████████████████| 199 kB 66.9 MB/s \n",
            "\u001b[?25hBuilding wheels for collected packages: pyspark\n",
            "  Building wheel for pyspark (setup.py) ... \u001b[?25l\u001b[?25hdone\n",
            "  Created wheel for pyspark: filename=pyspark-3.3.0-py2.py3-none-any.whl size=281764026 sha256=abdc55adab25ecd9d56dcea1854905a8ee8a4edf8d5a92e44626f35f84758004\n",
            "  Stored in directory: /root/.cache/pip/wheels/7a/8e/1b/f73a52650d2e5f337708d9f6a1750d451a7349a867f928b885\n",
            "Successfully built pyspark\n",
            "Installing collected packages: py4j, pyspark\n",
            "Successfully installed py4j-0.10.9.5 pyspark-3.3.0\n"
          ]
        }
      ],
      "source": [
        "pip install pyspark                         #Installing Pyspark"
      ]
    },
    {
      "cell_type": "code",
      "source": [
        "#Initializing PySpark\n",
        "from pyspark import SparkContext, SparkConf\n",
        "from pyspark.sql import SparkSession\n",
        "from pyspark.sql import SQLContext\n",
        "\n",
        "#Spark Config\n",
        "conf = SparkConf().setAppName(\"sample_app\")\n",
        "sc = SparkContext(conf=conf)\n",
        "spark = SparkSession.builder.appName('Test').getOrCreate()\n",
        "sqlContext = SQLContext(sc)"
      ],
      "metadata": {
        "colab": {
          "base_uri": "https://localhost:8080/"
        },
        "id": "S8NaLMeAvnkP",
        "outputId": "fee6d734-8ca7-4f6b-8338-418fb5c8e174"
      },
      "execution_count": null,
      "outputs": [
        {
          "output_type": "stream",
          "name": "stderr",
          "text": [
            "/usr/local/lib/python3.7/dist-packages/pyspark/sql/context.py:114: FutureWarning: Deprecated in 3.0.0. Use SparkSession.builder.getOrCreate() instead.\n",
            "  FutureWarning,\n"
          ]
        }
      ]
    },
    {
      "cell_type": "code",
      "source": [
        "df = spark.read.format(\"csv\").option(\"header\",\"true\").option(\"inferSchema\",\"true\").option(\"delimeter\",\",\").load(\"/content/olympic_data.csv\") \n",
        "df.show()\n",
        "#Reading the csv file of the data"
      ],
      "metadata": {
        "colab": {
          "base_uri": "https://localhost:8080/"
        },
        "id": "pZQqGB5kSY2R",
        "outputId": "bf5c4fe8-797c-41f1-b8db-884e660d627b"
      },
      "execution_count": null,
      "outputs": [
        {
          "output_type": "stream",
          "name": "stdout",
          "text": [
            "+--------------------+----+-------------+----+----------+--------------------+----------+------------+-----------+-----------+\n",
            "|                name| age|      country|year|Date_Given|              sports|gold_medal|silver_medal|brone_medal|total_medal|\n",
            "+--------------------+----+-------------+----+----------+--------------------+----------+------------+-----------+-----------+\n",
            "|      Michael Phelps|23.0|United States|2008| 8/24/2008|            Swimming|         8|           0|          0|          8|\n",
            "|      Michael Phelps|19.0|United States|2004| 8/29/2004|            Swimming|         6|           0|          2|          8|\n",
            "|      Michael Phelps|27.0|United States|2012|08-12-2012|            Swimming|         4|           2|          0|          6|\n",
            "|    Natalie Coughlin|25.0|United States|2008| 8/24/2008|            Swimming|         1|           2|          3|          6|\n",
            "|       Aleksey Nemov|24.0|       Russia|2000|10-01-2000|          Gymnastics|         2|           1|          3|          6|\n",
            "|       Alicia Coutts|24.0|    Australia|2012|08-12-2012|            Swimming|         1|           3|          1|          5|\n",
            "|      Missy Franklin|17.0|United States|2012|08-12-2012|            Swimming|         4|           0|          1|          5|\n",
            "|         Ryan Lochte|27.0|United States|2012|08-12-2012|            Swimming|         2|           2|          1|          5|\n",
            "|     Allison Schmitt|22.0|United States|2012|08-12-2012|            Swimming|         3|           1|          1|          5|\n",
            "|    Natalie Coughlin|21.0|United States|2004| 8/29/2004|            Swimming|         2|           2|          1|          5|\n",
            "|          Ian Thorpe|17.0|    Australia|2000|10-01-2000|            Swimming|         3|           2|          0|          5|\n",
            "|         Dara Torres|33.0|United States|2000|10-01-2000|            Swimming|         2|           0|          3|          5|\n",
            "|       Cindy Klassen|26.0|       Canada|2006| 2/26/2006|       Speed Skating|         1|           2|          2|          5|\n",
            "|       Nastia Liukin|18.0|United States|2008| 8/24/2008|          Gymnastics|         1|           3|          1|          5|\n",
            "|       Marit Bjørgen|29.0|       Norway|2010| 2/28/2010|Cross Country Skiing|         3|           1|          1|          5|\n",
            "|            Sun Yang|20.0|        China|2012|08-12-2012|            Swimming|         2|           1|          1|          4|\n",
            "|     Kirsty Coventry|24.0|     Zimbabwe|2008| 8/24/2008|            Swimming|         1|           3|          0|          4|\n",
            "|Libby Lenton-Tric...|23.0|    Australia|2008| 8/24/2008|            Swimming|         2|           1|          1|          4|\n",
            "|         Ryan Lochte|24.0|United States|2008| 8/24/2008|            Swimming|         2|           0|          2|          4|\n",
            "|      Inge de Bruijn|30.0|  Netherlands|2004| 8/29/2004|            Swimming|         1|           1|          2|          4|\n",
            "+--------------------+----+-------------+----+----------+--------------------+----------+------------+-----------+-----------+\n",
            "only showing top 20 rows\n",
            "\n"
          ]
        }
      ]
    },
    {
      "cell_type": "code",
      "source": [
        "df.printSchema()           #to check data type of the df"
      ],
      "metadata": {
        "colab": {
          "base_uri": "https://localhost:8080/"
        },
        "id": "1_daniRXiH4I",
        "outputId": "ece230bc-b44c-43c7-ef8a-afcf846c53b4"
      },
      "execution_count": null,
      "outputs": [
        {
          "output_type": "stream",
          "name": "stdout",
          "text": [
            "root\n",
            " |-- name: string (nullable = true)\n",
            " |-- age: double (nullable = true)\n",
            " |-- country: string (nullable = true)\n",
            " |-- year: integer (nullable = true)\n",
            " |-- Date_Given: string (nullable = true)\n",
            " |-- sports: string (nullable = true)\n",
            " |-- gold_medal: integer (nullable = true)\n",
            " |-- silver_medal: integer (nullable = true)\n",
            " |-- brone_medal: integer (nullable = true)\n",
            " |-- total_medal: integer (nullable = true)\n",
            "\n"
          ]
        }
      ]
    },
    {
      "cell_type": "markdown",
      "source": [
        "### Write PySpark code to print the Olympic Sports/games in the dataset.\n",
        "\n",
        "We will use map() to perform distinct() operation on each row with the help of lambda funtion."
      ],
      "metadata": {
        "id": "QgASQEHQV12d"
      }
    },
    {
      "cell_type": "code",
      "source": [
        "df.select('sports').distinct().rdd.map(lambda r: r[0]).collect()"
      ],
      "metadata": {
        "colab": {
          "base_uri": "https://localhost:8080/"
        },
        "id": "ADwdfePjV7QY",
        "outputId": "e058bfa0-2121-4588-d007-12c7ddb35a42"
      },
      "execution_count": null,
      "outputs": [
        {
          "output_type": "execute_result",
          "data": {
            "text/plain": [
              "['Gymnastics',\n",
              " 'Tennis',\n",
              " 'Boxing',\n",
              " 'Short-Track Speed Skating',\n",
              " 'Ice Hockey',\n",
              " 'Rowing',\n",
              " 'Judo',\n",
              " 'Softball',\n",
              " 'Sailing',\n",
              " 'Swimming',\n",
              " 'Alpine Skiing',\n",
              " 'Basketball',\n",
              " 'Handball',\n",
              " 'Rhythmic Gymnastics',\n",
              " 'Biathlon',\n",
              " 'Triathlon',\n",
              " 'Badminton',\n",
              " 'Athletics',\n",
              " 'Figure Skating',\n",
              " 'Beach Volleyball',\n",
              " 'Equestrian',\n",
              " 'Shooting',\n",
              " 'Diving',\n",
              " 'Skeleton',\n",
              " 'Ski Jumping',\n",
              " 'Nordic Combined',\n",
              " 'Wrestling',\n",
              " 'Speed Skating',\n",
              " 'Table Tennis',\n",
              " 'Taekwondo',\n",
              " 'Canoeing',\n",
              " 'Weightlifting',\n",
              " 'Waterpolo',\n",
              " 'Baseball',\n",
              " 'Modern Pentathlon',\n",
              " 'Snowboarding',\n",
              " 'Bobsleigh',\n",
              " 'Cycling',\n",
              " 'Cross Country Skiing',\n",
              " 'Volleyball',\n",
              " 'Archery',\n",
              " 'Synchronized Swimming',\n",
              " 'Curling',\n",
              " 'Fencing',\n",
              " 'Hockey',\n",
              " 'Freestyle Skiing',\n",
              " 'Football',\n",
              " 'Luge',\n",
              " 'Trampoline']"
            ]
          },
          "metadata": {},
          "execution_count": 4
        }
      ]
    },
    {
      "cell_type": "markdown",
      "source": [
        "### Write PySpark code to plot the total number of medals in  each Olympic Sport/game\n",
        "\n",
        "**We will use groupBy() for sports column and use sum() on totao_medal column and create a new dataframe.** "
      ],
      "metadata": {
        "id": "oG_cRFt5fCcv"
      }
    },
    {
      "cell_type": "code",
      "source": [
        "from pyspark.sql.functions import sum\n",
        "dfPlot =df.groupBy(\"sports\").agg(sum(\"total_medal\").alias(\"total number of medals\"))\n",
        "dfPlot.show()"
      ],
      "metadata": {
        "colab": {
          "base_uri": "https://localhost:8080/"
        },
        "id": "upj8OVSrbape",
        "outputId": "7a44f730-10b8-4525-8df0-101fccbd57d7"
      },
      "execution_count": null,
      "outputs": [
        {
          "output_type": "stream",
          "name": "stdout",
          "text": [
            "+--------------------+----------------------+\n",
            "|              sports|total number of medals|\n",
            "+--------------------+----------------------+\n",
            "|          Gymnastics|                   282|\n",
            "|              Tennis|                    78|\n",
            "|              Boxing|                   188|\n",
            "|Short-Track Speed...|                   138|\n",
            "|          Ice Hockey|                   384|\n",
            "|              Rowing|                   576|\n",
            "|                Judo|                   224|\n",
            "|            Softball|                   134|\n",
            "|             Sailing|                   210|\n",
            "|            Swimming|                   765|\n",
            "|       Alpine Skiing|                    90|\n",
            "|          Basketball|                   287|\n",
            "|            Handball|                   351|\n",
            "| Rhythmic Gymnastics|                    84|\n",
            "|            Biathlon|                   138|\n",
            "|           Triathlon|                    24|\n",
            "|           Badminton|                    96|\n",
            "|           Athletics|                   753|\n",
            "|      Figure Skating|                    54|\n",
            "|    Beach Volleyball|                    48|\n",
            "+--------------------+----------------------+\n",
            "only showing top 20 rows\n",
            "\n"
          ]
        }
      ]
    },
    {
      "cell_type": "markdown",
      "source": [
        "**Importing necessary libraries i.e. pandas and matplotlib to plot the total number of medals in each Olympic Sport.**"
      ],
      "metadata": {
        "id": "urDDpiP39m5K"
      }
    },
    {
      "cell_type": "code",
      "source": [
        "import pandas as pd\n",
        "import matplotlib.pyplot as plt  "
      ],
      "metadata": {
        "id": "j1EIIwmAKugl"
      },
      "execution_count": null,
      "outputs": []
    },
    {
      "cell_type": "markdown",
      "source": [
        "**We will convert PySpark dataframe to pandas dataframe using .toPandas()**"
      ],
      "metadata": {
        "id": "JpZTUINd88y-"
      }
    },
    {
      "cell_type": "code",
      "source": [
        "pandasdf = dfPlot.toPandas()\n",
        "pandasdf.head()"
      ],
      "metadata": {
        "colab": {
          "base_uri": "https://localhost:8080/",
          "height": 206
        },
        "id": "Ko1_IGaEIIEY",
        "outputId": "63125e46-c1de-48b1-8ae1-a5a989859c06"
      },
      "execution_count": null,
      "outputs": [
        {
          "output_type": "execute_result",
          "data": {
            "text/plain": [
              "                      sports  total number of medals\n",
              "0                 Gymnastics                     282\n",
              "1                     Tennis                      78\n",
              "2                     Boxing                     188\n",
              "3  Short-Track Speed Skating                     138\n",
              "4                 Ice Hockey                     384"
            ],
            "text/html": [
              "\n",
              "  <div id=\"df-cc6f12a9-e839-4506-bbc7-15a2bc557d1b\">\n",
              "    <div class=\"colab-df-container\">\n",
              "      <div>\n",
              "<style scoped>\n",
              "    .dataframe tbody tr th:only-of-type {\n",
              "        vertical-align: middle;\n",
              "    }\n",
              "\n",
              "    .dataframe tbody tr th {\n",
              "        vertical-align: top;\n",
              "    }\n",
              "\n",
              "    .dataframe thead th {\n",
              "        text-align: right;\n",
              "    }\n",
              "</style>\n",
              "<table border=\"1\" class=\"dataframe\">\n",
              "  <thead>\n",
              "    <tr style=\"text-align: right;\">\n",
              "      <th></th>\n",
              "      <th>sports</th>\n",
              "      <th>total number of medals</th>\n",
              "    </tr>\n",
              "  </thead>\n",
              "  <tbody>\n",
              "    <tr>\n",
              "      <th>0</th>\n",
              "      <td>Gymnastics</td>\n",
              "      <td>282</td>\n",
              "    </tr>\n",
              "    <tr>\n",
              "      <th>1</th>\n",
              "      <td>Tennis</td>\n",
              "      <td>78</td>\n",
              "    </tr>\n",
              "    <tr>\n",
              "      <th>2</th>\n",
              "      <td>Boxing</td>\n",
              "      <td>188</td>\n",
              "    </tr>\n",
              "    <tr>\n",
              "      <th>3</th>\n",
              "      <td>Short-Track Speed Skating</td>\n",
              "      <td>138</td>\n",
              "    </tr>\n",
              "    <tr>\n",
              "      <th>4</th>\n",
              "      <td>Ice Hockey</td>\n",
              "      <td>384</td>\n",
              "    </tr>\n",
              "  </tbody>\n",
              "</table>\n",
              "</div>\n",
              "      <button class=\"colab-df-convert\" onclick=\"convertToInteractive('df-cc6f12a9-e839-4506-bbc7-15a2bc557d1b')\"\n",
              "              title=\"Convert this dataframe to an interactive table.\"\n",
              "              style=\"display:none;\">\n",
              "        \n",
              "  <svg xmlns=\"http://www.w3.org/2000/svg\" height=\"24px\"viewBox=\"0 0 24 24\"\n",
              "       width=\"24px\">\n",
              "    <path d=\"M0 0h24v24H0V0z\" fill=\"none\"/>\n",
              "    <path d=\"M18.56 5.44l.94 2.06.94-2.06 2.06-.94-2.06-.94-.94-2.06-.94 2.06-2.06.94zm-11 1L8.5 8.5l.94-2.06 2.06-.94-2.06-.94L8.5 2.5l-.94 2.06-2.06.94zm10 10l.94 2.06.94-2.06 2.06-.94-2.06-.94-.94-2.06-.94 2.06-2.06.94z\"/><path d=\"M17.41 7.96l-1.37-1.37c-.4-.4-.92-.59-1.43-.59-.52 0-1.04.2-1.43.59L10.3 9.45l-7.72 7.72c-.78.78-.78 2.05 0 2.83L4 21.41c.39.39.9.59 1.41.59.51 0 1.02-.2 1.41-.59l7.78-7.78 2.81-2.81c.8-.78.8-2.07 0-2.86zM5.41 20L4 18.59l7.72-7.72 1.47 1.35L5.41 20z\"/>\n",
              "  </svg>\n",
              "      </button>\n",
              "      \n",
              "  <style>\n",
              "    .colab-df-container {\n",
              "      display:flex;\n",
              "      flex-wrap:wrap;\n",
              "      gap: 12px;\n",
              "    }\n",
              "\n",
              "    .colab-df-convert {\n",
              "      background-color: #E8F0FE;\n",
              "      border: none;\n",
              "      border-radius: 50%;\n",
              "      cursor: pointer;\n",
              "      display: none;\n",
              "      fill: #1967D2;\n",
              "      height: 32px;\n",
              "      padding: 0 0 0 0;\n",
              "      width: 32px;\n",
              "    }\n",
              "\n",
              "    .colab-df-convert:hover {\n",
              "      background-color: #E2EBFA;\n",
              "      box-shadow: 0px 1px 2px rgba(60, 64, 67, 0.3), 0px 1px 3px 1px rgba(60, 64, 67, 0.15);\n",
              "      fill: #174EA6;\n",
              "    }\n",
              "\n",
              "    [theme=dark] .colab-df-convert {\n",
              "      background-color: #3B4455;\n",
              "      fill: #D2E3FC;\n",
              "    }\n",
              "\n",
              "    [theme=dark] .colab-df-convert:hover {\n",
              "      background-color: #434B5C;\n",
              "      box-shadow: 0px 1px 3px 1px rgba(0, 0, 0, 0.15);\n",
              "      filter: drop-shadow(0px 1px 2px rgba(0, 0, 0, 0.3));\n",
              "      fill: #FFFFFF;\n",
              "    }\n",
              "  </style>\n",
              "\n",
              "      <script>\n",
              "        const buttonEl =\n",
              "          document.querySelector('#df-cc6f12a9-e839-4506-bbc7-15a2bc557d1b button.colab-df-convert');\n",
              "        buttonEl.style.display =\n",
              "          google.colab.kernel.accessAllowed ? 'block' : 'none';\n",
              "\n",
              "        async function convertToInteractive(key) {\n",
              "          const element = document.querySelector('#df-cc6f12a9-e839-4506-bbc7-15a2bc557d1b');\n",
              "          const dataTable =\n",
              "            await google.colab.kernel.invokeFunction('convertToInteractive',\n",
              "                                                     [key], {});\n",
              "          if (!dataTable) return;\n",
              "\n",
              "          const docLinkHtml = 'Like what you see? Visit the ' +\n",
              "            '<a target=\"_blank\" href=https://colab.research.google.com/notebooks/data_table.ipynb>data table notebook</a>'\n",
              "            + ' to learn more about interactive tables.';\n",
              "          element.innerHTML = '';\n",
              "          dataTable['output_type'] = 'display_data';\n",
              "          await google.colab.output.renderOutput(dataTable, element);\n",
              "          const docLink = document.createElement('div');\n",
              "          docLink.innerHTML = docLinkHtml;\n",
              "          element.appendChild(docLink);\n",
              "        }\n",
              "      </script>\n",
              "    </div>\n",
              "  </div>\n",
              "  "
            ]
          },
          "metadata": {},
          "execution_count": 72
        }
      ]
    },
    {
      "cell_type": "markdown",
      "source": [
        "**We will use barplot to plot the  the total number of medals in each Olympic Sport.**"
      ],
      "metadata": {
        "id": "jx5Z6bnj8Umy"
      }
    },
    {
      "cell_type": "code",
      "source": [
        "pandasdf.plot.bar(x='sports',y='total number of medals',figsize=(30,10))\n",
        "plt.title(\" Barplot of the total number of medals in each Olympic Sport\")\n",
        "plt.show()"
      ],
      "metadata": {
        "colab": {
          "base_uri": "https://localhost:8080/",
          "height": 615
        },
        "id": "i0Gi-2bmvXGT",
        "outputId": "b25f31aa-f46e-4912-d3ff-56dc260cf157"
      },
      "execution_count": null,
      "outputs": [
        {
          "output_type": "display_data",
          "data": {
            "text/plain": [
              "<Figure size 2160x720 with 1 Axes>"
            ],
            "image/png": "[encoded data removed]"
          },
          "metadata": {
            "needs_background": "light"
          }
        }
      ]
    },
    {
      "cell_type": "markdown",
      "source": [
        "### Sort the result based on the total number of medals. \n",
        "\n",
        "We will use groupby() and sort() "
      ],
      "metadata": {
        "id": "PGDrKSbtgIyc"
      }
    },
    {
      "cell_type": "code",
      "source": [
        "from pyspark.sql.functions import desc\n",
        "df.groupBy(\"sports\").sum(\"total_medal\").sort(desc(\"sum(total_medal)\")).show(50)"
      ],
      "metadata": {
        "colab": {
          "base_uri": "https://localhost:8080/"
        },
        "id": "-TJ_17AcjN_n",
        "outputId": "b25f0f54-956d-46cf-eeab-9c3d519552d8"
      },
      "execution_count": null,
      "outputs": [
        {
          "output_type": "stream",
          "name": "stdout",
          "text": [
            "+--------------------+----------------+\n",
            "|              sports|sum(total_medal)|\n",
            "+--------------------+----------------+\n",
            "|            Swimming|             765|\n",
            "|           Athletics|             753|\n",
            "|              Rowing|             576|\n",
            "|            Football|             407|\n",
            "|              Hockey|             387|\n",
            "|          Ice Hockey|             384|\n",
            "|            Handball|             351|\n",
            "|            Canoeing|             333|\n",
            "|           Waterpolo|             306|\n",
            "|             Cycling|             306|\n",
            "|          Basketball|             287|\n",
            "|          Gymnastics|             282|\n",
            "|          Volleyball|             279|\n",
            "|             Fencing|             256|\n",
            "|           Wrestling|             245|\n",
            "|                Judo|             224|\n",
            "|            Baseball|             216|\n",
            "|             Sailing|             210|\n",
            "|            Shooting|             192|\n",
            "|              Boxing|             188|\n",
            "|          Equestrian|             182|\n",
            "|       Weightlifting|             180|\n",
            "|Cross Country Skiing|             174|\n",
            "|              Diving|             144|\n",
            "|       Speed Skating|             140|\n",
            "|            Biathlon|             138|\n",
            "|Short-Track Speed...|             138|\n",
            "|            Softball|             134|\n",
            "|Synchronized Swim...|             129|\n",
            "|           Taekwondo|             112|\n",
            "|           Badminton|              96|\n",
            "|             Archery|              96|\n",
            "|       Alpine Skiing|              90|\n",
            "| Rhythmic Gymnastics|              84|\n",
            "|        Table Tennis|              84|\n",
            "|             Curling|              82|\n",
            "|              Tennis|              78|\n",
            "|           Bobsleigh|              72|\n",
            "|         Ski Jumping|              54|\n",
            "|     Nordic Combined|              54|\n",
            "|      Figure Skating|              54|\n",
            "|    Beach Volleyball|              48|\n",
            "|        Snowboarding|              48|\n",
            "|    Freestyle Skiing|              42|\n",
            "|                Luge|              36|\n",
            "|   Modern Pentathlon|              24|\n",
            "|           Triathlon|              24|\n",
            "|          Trampoline|              24|\n",
            "|            Skeleton|              18|\n",
            "+--------------------+----------------+\n",
            "\n"
          ]
        }
      ]
    },
    {
      "cell_type": "markdown",
      "source": [
        "### Find the total number of medals won by each country in swimming.\n",
        "\n",
        "\n",
        "We will use groupby() on country and sports column and filter the sports value equals to Swimming. \n"
      ],
      "metadata": {
        "id": "FJUbunR3lPcp"
      }
    },
    {
      "cell_type": "code",
      "source": [
        "#import col\n",
        "from pyspark.sql.functions import col\n",
        "df.groupBy(\"country\",\"sports\").sum(\"total_medal\").filter(col('sports') == 'Swimming').show(50)"
      ],
      "metadata": {
        "colab": {
          "base_uri": "https://localhost:8080/"
        },
        "id": "q2s_VPVnlNQa",
        "outputId": "d90026e5-e68a-45bb-bac0-4442b878eba5"
      },
      "execution_count": null,
      "outputs": [
        {
          "output_type": "stream",
          "name": "stdout",
          "text": [
            "+-------------------+--------+----------------+\n",
            "|            country|  sports|sum(total_medal)|\n",
            "+-------------------+--------+----------------+\n",
            "|            Croatia|Swimming|               1|\n",
            "|          Australia|Swimming|             163|\n",
            "|              Japan|Swimming|              43|\n",
            "|            Denmark|Swimming|               1|\n",
            "|           Slovenia|Swimming|               1|\n",
            "|        South Korea|Swimming|               4|\n",
            "|          Lithuania|Swimming|               1|\n",
            "|Trinidad and Tobago|Swimming|               1|\n",
            "|            Romania|Swimming|               6|\n",
            "|           Slovakia|Swimming|               2|\n",
            "|             France|Swimming|              39|\n",
            "|             Sweden|Swimming|               9|\n",
            "|            Hungary|Swimming|               9|\n",
            "|              Italy|Swimming|              16|\n",
            "|             Norway|Swimming|               2|\n",
            "|         Costa Rica|Swimming|               2|\n",
            "|          Argentina|Swimming|               1|\n",
            "|             Brazil|Swimming|               8|\n",
            "|      Great Britain|Swimming|              11|\n",
            "|           Zimbabwe|Swimming|               7|\n",
            "|       South Africa|Swimming|              11|\n",
            "|              Spain|Swimming|               3|\n",
            "|             Russia|Swimming|              20|\n",
            "|            Ukraine|Swimming|               7|\n",
            "|      United States|Swimming|             267|\n",
            "|        Netherlands|Swimming|              46|\n",
            "|             Canada|Swimming|               5|\n",
            "|            Belarus|Swimming|               2|\n",
            "|             Poland|Swimming|               3|\n",
            "|            Austria|Swimming|               3|\n",
            "|            Germany|Swimming|              32|\n",
            "|            Tunisia|Swimming|               3|\n",
            "|              China|Swimming|              35|\n",
            "|             Serbia|Swimming|               1|\n",
            "+-------------------+--------+----------------+\n",
            "\n"
          ]
        }
      ]
    },
    {
      "cell_type": "markdown",
      "source": [
        "### Find the total number of medals won by each country in Skeleton.\n",
        "\n",
        "We will use groupby() on country and sports column and filter the sports value equals to Skeleton. "
      ],
      "metadata": {
        "id": "EdW3JjsVlPVs"
      }
    },
    {
      "cell_type": "code",
      "source": [
        "df.groupBy(\"country\",\"sports\").sum(\"total_medal\").filter(col('sports') == 'Skeleton').show(50)"
      ],
      "metadata": {
        "colab": {
          "base_uri": "https://localhost:8080/"
        },
        "id": "W_33S-rin0Fz",
        "outputId": "f1266f9b-59ab-4431-9d51-094c91ebbde0"
      },
      "execution_count": null,
      "outputs": [
        {
          "output_type": "stream",
          "name": "stdout",
          "text": [
            "+-------------+--------+----------------+\n",
            "|      country|  sports|sum(total_medal)|\n",
            "+-------------+--------+----------------+\n",
            "|       Canada|Skeleton|               4|\n",
            "|       Russia|Skeleton|               1|\n",
            "|United States|Skeleton|               3|\n",
            "|      Germany|Skeleton|               2|\n",
            "|       Latvia|Skeleton|               1|\n",
            "|      Austria|Skeleton|               1|\n",
            "|Great Britain|Skeleton|               3|\n",
            "|  Switzerland|Skeleton|               3|\n",
            "+-------------+--------+----------------+\n",
            "\n"
          ]
        }
      ]
    },
    {
      "cell_type": "markdown",
      "source": [
        "### Find the number of medals that the US won yearly.\n",
        "\n",
        "We will use groupby() on country and year column and filter the country value equals to United States. "
      ],
      "metadata": {
        "id": "s6Sl7yhhok-1"
      }
    },
    {
      "cell_type": "code",
      "source": [
        "df.groupBy(\"country\",\"year\").sum(\"total_medal\").filter(col('country') == 'United States').show()"
      ],
      "metadata": {
        "colab": {
          "base_uri": "https://localhost:8080/"
        },
        "id": "nH0XoVtMomvu",
        "outputId": "50c1250d-76d9-4b5b-d18a-a71c581f37ef"
      },
      "execution_count": null,
      "outputs": [
        {
          "output_type": "stream",
          "name": "stdout",
          "text": [
            "+-------------+----+----------------+\n",
            "|      country|year|sum(total_medal)|\n",
            "+-------------+----+----------------+\n",
            "|United States|2012|             254|\n",
            "|United States|2002|              84|\n",
            "|United States|2000|             243|\n",
            "|United States|2008|             317|\n",
            "|United States|2010|              97|\n",
            "|United States|2006|              52|\n",
            "|United States|2004|             265|\n",
            "+-------------+----+----------------+\n",
            "\n"
          ]
        }
      ]
    },
    {
      "cell_type": "markdown",
      "source": [
        "### Find the total number of medals won by each country.\n",
        "\n",
        "We will use groupby() to find out total number of medals won by each country. We can select value for show() as the count of the country i.e. 110 to fetch all country name in the output."
      ],
      "metadata": {
        "id": "hdbnr6SXqiAr"
      }
    },
    {
      "cell_type": "code",
      "source": [
        "df.groupBy(\"country\").sum(\"total_medal\").show()           #using groupby()"
      ],
      "metadata": {
        "colab": {
          "base_uri": "https://localhost:8080/"
        },
        "id": "DxQ2ZJ03qkhM",
        "outputId": "16a96154-c672-42d2-89bf-ce1fe4f6e42a"
      },
      "execution_count": null,
      "outputs": [
        {
          "output_type": "stream",
          "name": "stdout",
          "text": [
            "+--------------+----------------+\n",
            "|       country|sum(total_medal)|\n",
            "+--------------+----------------+\n",
            "|        Russia|             768|\n",
            "|      Paraguay|              17|\n",
            "|Chinese Taipei|              20|\n",
            "|        Sweden|             181|\n",
            "|       Eritrea|               1|\n",
            "|     Singapore|               7|\n",
            "|      Malaysia|               3|\n",
            "|        Turkey|              28|\n",
            "|       Germany|             629|\n",
            "|   Afghanistan|               2|\n",
            "|         Sudan|               1|\n",
            "|        France|             318|\n",
            "|        Greece|              59|\n",
            "|     Sri Lanka|               1|\n",
            "|       Algeria|               8|\n",
            "|          Togo|               1|\n",
            "|      Slovakia|              35|\n",
            "|     Argentina|             140|\n",
            "|       Belgium|              18|\n",
            "| Great Britain|             322|\n",
            "+--------------+----------------+\n",
            "only showing top 20 rows\n",
            "\n"
          ]
        }
      ]
    },
    {
      "cell_type": "markdown",
      "source": [
        "### Who was the oldest athlete in the olympics? \n",
        "\n",
        "To find out the oldest athlete in Olympics, we will select the name and age column using select() and then we will sort age column in descending order using sort()."
      ],
      "metadata": {
        "id": "2GMQzNforPP0"
      }
    },
    {
      "cell_type": "code",
      "source": [
        "df.select('name',\"age\").sort(desc(\"age\")).show(5)"
      ],
      "metadata": {
        "colab": {
          "base_uri": "https://localhost:8080/"
        },
        "id": "7R61WCWM2E4t",
        "outputId": "71a95dbc-30d1-437f-d01d-a7475823982f"
      },
      "execution_count": null,
      "outputs": [
        {
          "output_type": "stream",
          "name": "stdout",
          "text": [
            "+--------------------+----+\n",
            "|                name| age|\n",
            "+--------------------+----+\n",
            "|          Ian Millar|61.0|\n",
            "|           Mark Todd|56.0|\n",
            "|            Mac Cone|55.0|\n",
            "|        Nick Skelton|54.0|\n",
            "|Lesley Thompson-W...|52.0|\n",
            "+--------------------+----+\n",
            "only showing top 5 rows\n",
            "\n"
          ]
        }
      ]
    },
    {
      "cell_type": "markdown",
      "source": [
        "From above, we know that the **Ian Millar is the oldest athlete having age of 61.**"
      ],
      "metadata": {
        "id": "mt6QPPfc-5H4"
      }
    },
    {
      "cell_type": "markdown",
      "source": [
        "### Which country was he/she from?"
      ],
      "metadata": {
        "id": "vVWrMJCe89jW"
      }
    },
    {
      "cell_type": "code",
      "source": [
        "#selecting country column to find out the country of oldest athlete\n",
        "df.select('name',\"age\",\"country\").sort(desc(\"age\")).show(1)            "
      ],
      "metadata": {
        "colab": {
          "base_uri": "https://localhost:8080/"
        },
        "id": "x9mOsTWf87F5",
        "outputId": "5157264c-42ee-496b-aa33-f8a6efce3de5"
      },
      "execution_count": null,
      "outputs": [
        {
          "output_type": "stream",
          "name": "stdout",
          "text": [
            "+----------+----+-------+\n",
            "|      name| age|country|\n",
            "+----------+----+-------+\n",
            "|Ian Millar|61.0| Canada|\n",
            "+----------+----+-------+\n",
            "only showing top 1 row\n",
            "\n"
          ]
        }
      ]
    },
    {
      "cell_type": "markdown",
      "source": [
        "From above, we can see that Ian Millar is from **Canada**."
      ],
      "metadata": {
        "id": "I9s_4C9S9fB4"
      }
    },
    {
      "cell_type": "markdown",
      "source": [
        "### Conclusion:\n",
        "\n",
        "• We were able to analyse data successfully using different functions of the PySpark. \n",
        "\n",
        "• We have seen visualization for our PySpark dataframe using pandas matplotlib.\n",
        "\n",
        "***\n",
        "## <center> **Thank You!** </center>"
      ],
      "metadata": {
        "id": "M_kFnBbmdMkx"
      }
    }
  ]
}